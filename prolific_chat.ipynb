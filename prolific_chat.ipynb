{
 "cells": [
  {
   "cell_type": "code",
   "execution_count": 11,
   "metadata": {},
   "outputs": [
    {
     "data": {
      "text/plain": [
       "True"
      ]
     },
     "execution_count": 11,
     "metadata": {},
     "output_type": "execute_result"
    }
   ],
   "source": [
    "import requests\n",
    "import pandas as pd\n",
    "import os\n",
    "from dotenv import load_dotenv\n",
    "load_dotenv()"
   ]
  },
  {
   "cell_type": "code",
   "execution_count": 20,
   "metadata": {},
   "outputs": [],
   "source": [
    "already_sent = \"\"\"\n",
    "Sent message to 6632edd68127fba862de05bf\n",
    "Sent message to 5fdee6e9fd62fb6a79d254a2\n",
    "Sent message to 601dc945a5824c1e2425bd2a\n",
    "Sent message to 63d000d62878aa92b833c5fc\n",
    "Sent message to 66ba08ae50bac2bbfa96393c\n",
    "Sent message to 60fcf9c584faf42e6e05f029\n",
    "Sent message to 66bba77b2a1f69a784bcc2e2\n",
    "Sent message to 66940177d508dbe484d6f7e5\n",
    "Sent message to 5ab942eca3ba7a0001b41f88\n",
    "Sent message to 672f0d2a6d0a3d857a526e95\n",
    "Sent message to 5e38823f0d70ef099d5e5a56\n",
    "Sent message to 65ed024b28d78ab0f0b951ac\n",
    "Sent message to 66df8a08c5adf9288b808641\n",
    "Sent message to 6290cebe9b9de092a6b266e2\n",
    "Sent message to 5bf308873a46830001a64a09\n",
    "Sent message to 65672f832e481d65554c0bbc\n",
    "Sent message to 6572244f5a6d2b943074aa73\n",
    "Sent message to 5d2e4267565e1200017efb42\n",
    "Sent message to 6736752157041251936fb197\n",
    "Sent message to 666f3d1b12b81506cf77cfc0\n",
    "Sent message to 60f9fc813c6bdaa5a3ea9e61\n",
    "Sent message to 599eaf0fbfd73c00010ea24e\n",
    "Sent message to 601f5a82dc8ed94a9da4461e\n",
    "Sent message to 58880987bc9f1900014879c6\n",
    "Sent message to 62cba72839d35cbf953cdd6f\n",
    "Sent message to 66c7e6e05a6d60e4278bfda7\n",
    "Sent message to 66bc9102ed144f9e129bd3f2\n",
    "\"\"\""
   ]
  },
  {
   "cell_type": "code",
   "execution_count": 28,
   "metadata": {},
   "outputs": [
    {
     "name": "stdout",
     "output_type": "stream",
     "text": [
      "['5c9bfbfa325c3d001ad360a8' '5bf308873a46830001a64a09'\n",
      " '65672f832e481d65554c0bbc' '60fcf9c584faf42e6e05f029'\n",
      " '66940177d508dbe484d6f7e5' '66f724392e745ba6f468c1f6'\n",
      " '601dc945a5824c1e2425bd2a' '672f0d2a6d0a3d857a526e95'\n",
      " '660a5d97a07676217afae5fe' '5d2e4267565e1200017efb42'\n",
      " '5c005292232b6c000122198c' '672d2ced356e28892be026b4'\n",
      " '66e13442b0ae2bb7f0170ebb' '666f3d1b12b81506cf77cfc0'\n",
      " '55bb9ae7fdf99b26d27fda01' '60c81a556366e2bc7502066f'\n",
      " '670fd04ebdeb4aba9822fd3c' '66df8a08c5adf9288b808641'\n",
      " '66bc9102ed144f9e129bd3f2' '6100dd0240e57d5cb3908402'\n",
      " '65172a5accd4f7b31d650d6f' '66295979973d480359d7ddee'\n",
      " '6736752157041251936fb197' '673283d7abe9b4f50b28637e'\n",
      " '63782709326973c77adc3db8' '663e42cdb31f739932752156'\n",
      " '66b7e1b1744cb27ea4e73916' '6290cebe9b9de092a6b266e2'\n",
      " '599eaf0fbfd73c00010ea24e' '5c9c3ae2d40ce20014233de6'\n",
      " '60d54e6c7c07f25c5b751491' '6700cb8712973805d93c3529'\n",
      " '6711f493bfc7c4e11953872d' '66293db7e0d7455abf6064c1'\n",
      " '67220e33eef9d6227ba51410']\n"
     ]
    }
   ],
   "source": [
    "df_prolific = pd.read_csv('~/Downloads/prolific_export_677db0064cdaa4ae7dd475b8.csv')\n",
    "df_prolific = df_prolific[df_prolific['Status'] == 'AWAITING REVIEW']\n",
    "df_prolific.shape\n",
    "\n",
    "awaiting_review_pids = df_prolific['Participant id'].values\n",
    "print(awaiting_review_pids)"
   ]
  },
  {
   "cell_type": "code",
   "execution_count": 7,
   "metadata": {},
   "outputs": [],
   "source": [
    "STUDY_ID = \"677db0064cdaa4ae7dd475b8\"\n",
    "NEW_STUDY_URL = \"https://stanforduniversity.qualtrics.com/jfe/form/SV_0AFsjw4rPWMAo50?prolific_id={pid}\"\n",
    "df_pids = pd.read_csv(\"~/Downloads/tmp.csv\")\n",
    "pids_to_message = df_pids[\"pid\"].tolist()\n",
    "message  = \"\"\"\n",
    "Hello, thank you for participating in our study. Our records indicate that you have not yet completed the final portion of the study.\n",
    "If you would like to receive credit for this study, please click on the following link to complete the final portion of the study:\n",
    "\n",
    "{url}\n",
    "\n",
    "This final portion of the study is estimated to take 1-2 minutes, but without it, we cannot use your data in our analyses. \n",
    "If you do not wish to complete this portion of the study, please return the assignment to avoid receiving a rejection.\n",
    "\n",
    "Please either complete the study or return the assignment within the next 12 hours so we can finalize the study and pay out the participants who have completed the study.\n",
    "\n",
    "Thank you! Please feel free to reach out if you have any questions.\n",
    "\"\"\"\n"
   ]
  },
  {
   "cell_type": "code",
   "execution_count": 29,
   "metadata": {},
   "outputs": [
    {
     "name": "stdout",
     "output_type": "stream",
     "text": [
      "Already sent message to 601dc945a5824c1e2425bd2a\n",
      "Already sent message to 60fcf9c584faf42e6e05f029\n",
      "Already sent message to 66940177d508dbe484d6f7e5\n",
      "Already sent message to 672f0d2a6d0a3d857a526e95\n",
      "Already sent message to 66df8a08c5adf9288b808641\n",
      "Already sent message to 6290cebe9b9de092a6b266e2\n",
      "Already sent message to 5bf308873a46830001a64a09\n",
      "Already sent message to 65672f832e481d65554c0bbc\n",
      "Already sent message to 5d2e4267565e1200017efb42\n",
      "Already sent message to 6736752157041251936fb197\n",
      "Already sent message to 666f3d1b12b81506cf77cfc0\n",
      "Already sent message to 599eaf0fbfd73c00010ea24e\n",
      "Already sent message to 66bc9102ed144f9e129bd3f2\n",
      "Sent message to 63782709326973c77adc3db8\n",
      "Sent message to 5c9bfbfa325c3d001ad360a8\n",
      "Sent message to 6700cb8712973805d93c3529\n",
      "Sent message to 66e13442b0ae2bb7f0170ebb\n",
      "Sent message to 66b7e1b1744cb27ea4e73916\n",
      "Sent message to 672d2ced356e28892be026b4\n",
      "Sent message to 670fd04ebdeb4aba9822fd3c\n",
      "Sent message to 60d54e6c7c07f25c5b751491\n",
      "Sent message to 660a5d97a07676217afae5fe\n",
      "Sent message to 6100dd0240e57d5cb3908402\n",
      "Sent message to 60c81a556366e2bc7502066f\n",
      "Sent message to 55bb9ae7fdf99b26d27fda01\n",
      "Sent message to 66295979973d480359d7ddee\n",
      "Sent message to 663e42cdb31f739932752156\n",
      "Sent message to 66293db7e0d7455abf6064c1\n"
     ]
    }
   ],
   "source": [
    "endpoint = \"https://api.prolific.com/api/v1/messages/\"\n",
    "messaged_pids = []\n",
    "for i, pid in enumerate(pids_to_message):\n",
    "    if pid not in awaiting_review_pids:\n",
    "        # print(f\"Participant {pid} not in awaiting review\")\n",
    "        continue\n",
    "    if i < 1:\n",
    "        continue\n",
    "    \n",
    "    if pid in already_sent:\n",
    "        print(f\"Already sent message to {pid}\")\n",
    "        continue\n",
    "    url = NEW_STUDY_URL.format(pid=pid)\n",
    "    payload = {\n",
    "        \"recipient_id\": pid,\n",
    "        \"body\": message.format(url=url),\n",
    "        \"study_id\": STUDY_ID\n",
    "    }\n",
    "    api_token = os.environ[\"PROLIFIC_API_TOKEN\"]\n",
    "    resp = requests.post(endpoint, json=payload, headers={\"Authorization\": f\"Token {api_token}\"})\n",
    "    if resp.status_code > 300:\n",
    "        print(f\"Failed to send message to {pid} with status code {resp.status_code}\")\n",
    "        print(resp.text)\n",
    "    else:\n",
    "        print(f\"Sent message to {pid}\")\n",
    "        messaged_pids.append(pid)\n",
    "    # if i >= 1:\n",
    "    #     break"
   ]
  },
  {
   "cell_type": "code",
   "execution_count": 15,
   "metadata": {},
   "outputs": [
    {
     "data": {
      "text/plain": [
       "'{\"error\":{\"status\":404,\"title\":\"The resource requested was not found or you do not have permissions.\",\"error_code\":140401,\"detail\":\"The resource requested was not found or you do not have permissions.\",\"additional_information\":\"/api/v1/errors/\",\"interactive\":false}}'"
      ]
     },
     "execution_count": 15,
     "metadata": {},
     "output_type": "execute_result"
    }
   ],
   "source": [
    "resp.text"
   ]
  },
  {
   "cell_type": "code",
   "execution_count": null,
   "metadata": {},
   "outputs": [],
   "source": []
  }
 ],
 "metadata": {
  "kernelspec": {
   "display_name": "venv",
   "language": "python",
   "name": "python3"
  },
  "language_info": {
   "codemirror_mode": {
    "name": "ipython",
    "version": 3
   },
   "file_extension": ".py",
   "mimetype": "text/x-python",
   "name": "python",
   "nbconvert_exporter": "python",
   "pygments_lexer": "ipython3",
   "version": "3.11.9"
  }
 },
 "nbformat": 4,
 "nbformat_minor": 2
}
